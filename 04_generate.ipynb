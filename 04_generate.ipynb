{
 "cells": [
  {
   "cell_type": "code",
   "execution_count": null,
   "metadata": {},
   "outputs": [],
   "source": [
    "from tqdm import tqdm \n",
    "\n",
    "import os\n",
    "import gc\n",
    "\n",
    "import numpy as np\n",
    "\n",
    "import torch\n",
    "import torch.nn as nn\n",
    "\n",
    "from torch.optim import Adam\n",
    "\n",
    "from torchvision.datasets import MNIST\n",
    "from torchvision.transforms import ToTensor, Normalize, Compose\n",
    "from torch.utils.data import DataLoader\n",
    "from torchvision.utils import save_image, make_grid\n",
    "\n",
    "from unet import Unet\n",
    "from scheduler import get_schedules"
   ]
  },
  {
   "cell_type": "code",
   "execution_count": null,
   "metadata": {},
   "outputs": [],
   "source": [
    "torch.manual_seed(42)\n",
    "np.random.seed(42)\n",
    "\n",
    "device = 'cuda' if torch.cuda.is_available() else 'cpu'"
   ]
  },
  {
   "cell_type": "code",
   "execution_count": null,
   "metadata": {},
   "outputs": [],
   "source": [
    "n_T = 1000\n",
    "betas = [1e-4, 0.02]"
   ]
  },
  {
   "cell_type": "code",
   "execution_count": null,
   "metadata": {},
   "outputs": [],
   "source": [
    "if not os.path.isdir('results'):\n",
    "    os.makedirs('results')"
   ]
  },
  {
   "cell_type": "code",
   "execution_count": null,
   "metadata": {},
   "outputs": [],
   "source": [
    "unet = Unet().to(device)\n",
    "\n",
    "# pre-compute schedules\n",
    "schedules = get_schedules(betas[0], betas[1], n_T)\n",
    "schedules = {key: val.to(device) for key, val in schedules.items()}  # add all tensors on device"
   ]
  },
  {
   "cell_type": "code",
   "execution_count": null,
   "metadata": {},
   "outputs": [],
   "source": [
    "loaded_state_dict = torch.load(f\"saved_models/unet_mnist.pth\", map_location=torch.device(device))\n",
    "unet.load_state_dict(loaded_state_dict)\n",
    "unet.eval()\n"
   ]
  },
  {
   "cell_type": "code",
   "execution_count": null,
   "metadata": {},
   "outputs": [],
   "source": [
    "n_samples = 8\n",
    "\n",
    "# Step 1\n",
    "x_T = torch.randn(n_samples, 1, 28, 28).to(device)\n",
    "\n",
    "ones = torch.ones(n_samples).to(device)\n",
    "\n",
    "noise = torch.randn(n_samples, 1, 28, 28).to(device)\n",
    "\n",
    "# Step 2\n",
    "x_i = x_T\n",
    "for i in tqdm(range(n_T, 0, -1)):\n",
    "    gc.collect()\n",
    "    torch.cuda.empty_cache()\n",
    "\n",
    "    # Step 3\n",
    "    noise.normal_()\n",
    "    z = noise\n",
    "\n",
    "    # Step 4\n",
    "    t = ones\n",
    "    eps = unet(x_i, t)\n",
    "\n",
    "    x_i = schedules[\"one_over_sqrt_a\"][i] * (x_i - eps * schedules[\"inv_alpha_over_sqrt_inv_abar\"][i]) + schedules[\"sqrt_beta\"][i] * z\n",
    "    \n",
    "    del eps, t"
   ]
  },
  {
   "cell_type": "code",
   "execution_count": null,
   "metadata": {},
   "outputs": [],
   "source": [
    "x_hat = x_i\n",
    "x_hat = x_hat.detach().cpu().numpy().reshape(-1, 28, 28)\n",
    "\n",
    "import matplotlib.pyplot as plt\n",
    "\n",
    "for i, img in enumerate(x_hat):\n",
    "    plt.subplot(2, 4, i+1)\n",
    "    plt.imshow(img, cmap='binary')\n",
    "    plt.axis('off')\n",
    "\n",
    "plt.draw()"
   ]
  },
  {
   "cell_type": "code",
   "execution_count": null,
   "metadata": {},
   "outputs": [],
   "source": []
  }
 ],
 "metadata": {
  "kernelspec": {
   "display_name": "hy673",
   "language": "python",
   "name": "python3"
  },
  "language_info": {
   "codemirror_mode": {
    "name": "ipython",
    "version": 3
   },
   "file_extension": ".py",
   "mimetype": "text/x-python",
   "name": "python",
   "nbconvert_exporter": "python",
   "pygments_lexer": "ipython3",
   "version": "3.10.9"
  },
  "orig_nbformat": 4
 },
 "nbformat": 4,
 "nbformat_minor": 2
}
