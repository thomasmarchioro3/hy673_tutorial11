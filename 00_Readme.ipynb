{
 "cells": [
  {
   "attachments": {},
   "cell_type": "markdown",
   "metadata": {},
   "source": [
    "# Diffusion models\n",
    "\n",
    "- Notebooks 01 and 02 are for illustration purpose\n",
    "- Use notebook 03 to train the diffusion model\n",
    "- Use notebook 04 to generate new samples"
   ]
  }
 ],
 "metadata": {
  "language_info": {
   "name": "python"
  },
  "orig_nbformat": 4
 },
 "nbformat": 4,
 "nbformat_minor": 2
}
