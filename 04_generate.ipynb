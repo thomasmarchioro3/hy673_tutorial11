{
 "cells": [
  {
   "cell_type": "code",
   "execution_count": 1,
   "metadata": {},
   "outputs": [],
   "source": [
    "from tqdm import tqdm \n",
    "\n",
    "import os\n",
    "import gc\n",
    "from time import sleep\n",
    "\n",
    "import numpy as np\n",
    "\n",
    "import torch\n",
    "\n",
    "from unet import Unet\n",
    "from scheduler import get_schedules"
   ]
  },
  {
   "cell_type": "code",
   "execution_count": 2,
   "metadata": {},
   "outputs": [],
   "source": [
    "torch.manual_seed(42)\n",
    "np.random.seed(42)\n",
    "\n",
    "device = 'cuda' if torch.cuda.is_available() else 'cpu'"
   ]
  },
  {
   "cell_type": "code",
   "execution_count": 3,
   "metadata": {},
   "outputs": [],
   "source": [
    "n_T = 1000\n",
    "betas = [1e-4, 0.02]"
   ]
  },
  {
   "cell_type": "code",
   "execution_count": 4,
   "metadata": {},
   "outputs": [],
   "source": [
    "if not os.path.isdir('results'):\n",
    "    os.makedirs('results')"
   ]
  },
  {
   "cell_type": "code",
   "execution_count": 5,
   "metadata": {},
   "outputs": [],
   "source": [
    "unet = Unet(n_features=128).to(device)\n",
    "\n",
    "# pre-compute schedules\n",
    "schedules = get_schedules(betas[0], betas[1], n_T)\n",
    "schedules = {key: val.to(device) for key, val in schedules.items()}  # add all tensors on device"
   ]
  },
  {
   "cell_type": "code",
   "execution_count": 6,
   "metadata": {},
   "outputs": [
    {
     "data": {
      "text/plain": [
       "Unet(\n",
       "  (encoder): Encoder(\n",
       "    (initial_features): Sequential(\n",
       "      (0): Conv2d(1, 128, kernel_size=(3, 3), stride=(1, 1), padding=(1, 1))\n",
       "      (1): GroupNorm(8, 128, eps=1e-05, affine=True)\n",
       "      (2): ReLU()\n",
       "    )\n",
       "    (down1): UnetDown(\n",
       "      (model): Sequential(\n",
       "        (0): ConvBlock(\n",
       "          (block): Sequential(\n",
       "            (0): Conv2d(128, 128, kernel_size=(3, 3), stride=(1, 1), padding=(1, 1))\n",
       "            (1): GroupNorm(8, 128, eps=1e-05, affine=True)\n",
       "            (2): ReLU()\n",
       "          )\n",
       "        )\n",
       "        (1): MaxPool2d(kernel_size=2, stride=2, padding=0, dilation=1, ceil_mode=False)\n",
       "      )\n",
       "    )\n",
       "    (down2): UnetDown(\n",
       "      (model): Sequential(\n",
       "        (0): ConvBlock(\n",
       "          (block): Sequential(\n",
       "            (0): Conv2d(128, 256, kernel_size=(3, 3), stride=(1, 1), padding=(1, 1))\n",
       "            (1): GroupNorm(8, 256, eps=1e-05, affine=True)\n",
       "            (2): ReLU()\n",
       "          )\n",
       "        )\n",
       "        (1): MaxPool2d(kernel_size=2, stride=2, padding=0, dilation=1, ceil_mode=False)\n",
       "      )\n",
       "    )\n",
       "    (down3): UnetDown(\n",
       "      (model): Sequential(\n",
       "        (0): ConvBlock(\n",
       "          (block): Sequential(\n",
       "            (0): Conv2d(256, 256, kernel_size=(3, 3), stride=(1, 1), padding=(1, 1))\n",
       "            (1): GroupNorm(8, 256, eps=1e-05, affine=True)\n",
       "            (2): ReLU()\n",
       "          )\n",
       "        )\n",
       "        (1): MaxPool2d(kernel_size=2, stride=2, padding=0, dilation=1, ceil_mode=False)\n",
       "      )\n",
       "    )\n",
       "    (down4): Sequential(\n",
       "      (0): AvgPool2d(kernel_size=3, stride=3, padding=0)\n",
       "      (1): ReLU()\n",
       "    )\n",
       "  )\n",
       "  (decoder): Decoder(\n",
       "    (up1): Sequential(\n",
       "      (0): ConvTranspose2d(256, 256, kernel_size=(3, 3), stride=(3, 3))\n",
       "      (1): GroupNorm(8, 256, eps=1e-05, affine=True)\n",
       "      (2): ReLU()\n",
       "    )\n",
       "    (up2): UnetUp(\n",
       "      (model): Sequential(\n",
       "        (0): ConvTranspose2d(512, 256, kernel_size=(2, 2), stride=(2, 2), output_padding=(1, 1))\n",
       "        (1): ConvBlock(\n",
       "          (block): Sequential(\n",
       "            (0): Conv2d(256, 256, kernel_size=(3, 3), stride=(1, 1), padding=(1, 1))\n",
       "            (1): GroupNorm(8, 256, eps=1e-05, affine=True)\n",
       "            (2): ReLU()\n",
       "          )\n",
       "        )\n",
       "      )\n",
       "    )\n",
       "    (up3): UnetUp(\n",
       "      (model): Sequential(\n",
       "        (0): ConvTranspose2d(512, 128, kernel_size=(2, 2), stride=(2, 2))\n",
       "        (1): ConvBlock(\n",
       "          (block): Sequential(\n",
       "            (0): Conv2d(128, 128, kernel_size=(3, 3), stride=(1, 1), padding=(1, 1))\n",
       "            (1): GroupNorm(8, 128, eps=1e-05, affine=True)\n",
       "            (2): ReLU()\n",
       "          )\n",
       "        )\n",
       "      )\n",
       "    )\n",
       "    (up4): UnetUp(\n",
       "      (model): Sequential(\n",
       "        (0): ConvTranspose2d(256, 128, kernel_size=(2, 2), stride=(2, 2))\n",
       "        (1): ConvBlock(\n",
       "          (block): Sequential(\n",
       "            (0): Conv2d(128, 128, kernel_size=(3, 3), stride=(1, 1), padding=(1, 1))\n",
       "            (1): GroupNorm(8, 128, eps=1e-05, affine=True)\n",
       "            (2): ReLU()\n",
       "          )\n",
       "        )\n",
       "      )\n",
       "    )\n",
       "    (out): Conv2d(256, 1, kernel_size=(3, 3), stride=(1, 1), padding=(1, 1))\n",
       "  )\n",
       "  (time_embedding_layer): TimeEmbedding(\n",
       "    (lin1): Linear(in_features=1, out_features=256, bias=False)\n",
       "    (lin2): Linear(in_features=256, out_features=256, bias=True)\n",
       "  )\n",
       ")"
      ]
     },
     "execution_count": 6,
     "metadata": {},
     "output_type": "execute_result"
    }
   ],
   "source": [
    "loaded_state_dict = torch.load(f\"saved_models/unet_mnist.pt\", map_location=torch.device(device))\n",
    "unet.load_state_dict(loaded_state_dict)\n",
    "unet.eval()\n"
   ]
  },
  {
   "cell_type": "code",
   "execution_count": 7,
   "metadata": {},
   "outputs": [],
   "source": [
    "def sample(model, n_T, n_samples, sample_shape, device, schedules):\n",
    "\n",
    "    # Step 1\n",
    "    x_T = torch.randn(n_samples, *sample_shape).to(device)\n",
    "    ones = torch.ones(n_samples).to(device)\n",
    "\n",
    "    # Step 2\n",
    "    x_i = x_T\n",
    "    for i in tqdm(range(n_T, 0, -1)):\n",
    "        # Step 3\n",
    "        z = torch.randn(n_samples, *sample_shape).to(device) if i > 1 else 0\n",
    "        # Step 4\n",
    "        t = (i / n_T)*ones\n",
    "        eps = model(x_i, t)\n",
    "\n",
    "        # Very important: use eps.clone().detach() to avoid Out-of-memory errors\n",
    "        # If eps stays connected to the computational graph, x_i will be connected to all  \n",
    "        # the tensors produced by the model\n",
    "        eps = eps.clone().detach()  \n",
    "        v = schedules[\"one_over_sqrt_a\"][i] * (x_i - eps * schedules[\"inv_alpha_over_sqrt_inv_abar\"][i])\n",
    "        x_i = v + schedules[\"sqrt_beta\"][i] * z\n",
    "\n",
    "\n",
    "    # Step 6\n",
    "    x = x_i\n",
    "    return x\n",
    "\n",
    "    "
   ]
  },
  {
   "cell_type": "code",
   "execution_count": 8,
   "metadata": {},
   "outputs": [
    {
     "name": "stderr",
     "output_type": "stream",
     "text": [
      "100%|██████████| 1000/1000 [00:05<00:00, 189.68it/s]\n"
     ]
    },
    {
     "data": {
      "image/png": "[encoded data removed]",
      "text/plain": [
       "<Figure size 640x480 with 8 Axes>"
      ]
     },
     "metadata": {},
     "output_type": "display_data"
    }
   ],
   "source": [
    "n_samples = 8\n",
    "\n",
    "x_hat = sample(unet, n_T, n_samples, (1, 28, 28), device, schedules)\n",
    "x_hat = x_hat.detach().cpu().numpy().reshape(-1, 28, 28)\n",
    "\n",
    "import matplotlib.pyplot as plt\n",
    "\n",
    "for i, img in enumerate(x_hat):\n",
    "    plt.subplot(2, 4, i+1)\n",
    "    plt.imshow(img, cmap='gray')\n",
    "    plt.axis('off')\n",
    "\n",
    "plt.draw()"
   ]
  },
  {
   "cell_type": "code",
   "execution_count": null,
   "metadata": {},
   "outputs": [],
   "source": []
  }
 ],
 "metadata": {
  "kernelspec": {
   "display_name": "hy673",
   "language": "python",
   "name": "python3"
  },
  "language_info": {
   "codemirror_mode": {
    "name": "ipython",
    "version": 3
   },
   "file_extension": ".py",
   "mimetype": "text/x-python",
   "name": "python",
   "nbconvert_exporter": "python",
   "pygments_lexer": "ipython3",
   "version": "3.10.6"
  },
  "orig_nbformat": 4
 },
 "nbformat": 4,
 "nbformat_minor": 2
}
